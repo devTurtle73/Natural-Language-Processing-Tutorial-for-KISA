{
  "nbformat": 4,
  "nbformat_minor": 0,
  "metadata": {
    "colab": {
      "name": "Pandas의 기본 사용법",
      "provenance": [],
      "collapsed_sections": [],
      "authorship_tag": "ABX9TyPRbWhLQPlVMk7FaJImix+1",
      "include_colab_link": true
    },
    "kernelspec": {
      "name": "python3",
      "display_name": "Python 3"
    }
  },
  "cells": [
    {
      "cell_type": "markdown",
      "metadata": {
        "id": "view-in-github",
        "colab_type": "text"
      },
      "source": [
        "<a href=\"https://colab.research.google.com/github/ndb796/Natural-Language-Processing-Tutorial-for-KISA/blob/master/Pandas%EC%9D%98%20%EA%B8%B0%EB%B3%B8%20%EC%82%AC%EC%9A%A9%EB%B2%95.ipynb\" target=\"_parent\"><img src=\"https://colab.research.google.com/assets/colab-badge.svg\" alt=\"Open In Colab\"/></a>"
      ]
    },
    {
      "cell_type": "markdown",
      "metadata": {
        "id": "OB2wWC2StfuW",
        "colab_type": "text"
      },
      "source": [
        "<h5><b>판다스(Pandas)란?</b></h5>"
      ]
    },
    {
      "cell_type": "markdown",
      "metadata": {
        "id": "J4CEJnFLtkE5",
        "colab_type": "text"
      },
      "source": [
        "* 엑셀처럼 데이터를 효과적으로 처리하고, 보여줄 수 있도록 도와주는 라이브러리입니다.\n",
        "* Numpy와 함께 사용되어 다양한 연계적인 기능을 제공합니다.\n",
        "* 인덱스(Index)에 따라 데이터를 나열하므로 사전(Dictionary) 자료형에 가깝습니다.\n",
        "* 시리즈(Series)를 기본적인 자료형으로 사용합니다.\n"
      ]
    },
    {
      "cell_type": "markdown",
      "metadata": {
        "id": "zi1MwSnTtqBQ",
        "colab_type": "text"
      },
      "source": [
        "<h5><b>Series 사용해보기</b></h5>"
      ]
    },
    {
      "cell_type": "code",
      "metadata": {
        "id": "EAZgR__LtcZo",
        "colab_type": "code",
        "outputId": "a0fc9703-44ba-4265-f9e1-db03d1c96b40",
        "colab": {
          "base_uri": "https://localhost:8080/",
          "height": 105
        }
      },
      "source": [
        "import pandas as pd\n",
        "\n",
        "array = pd.Series(['사과', '바나나', '당근'], index=['a', 'b', 'c'])\n",
        "print(array)\n",
        "print(array['a'])"
      ],
      "execution_count": 0,
      "outputs": [
        {
          "output_type": "stream",
          "text": [
            "a     사과\n",
            "b    바나나\n",
            "c     당근\n",
            "dtype: object\n",
            "사과\n"
          ],
          "name": "stdout"
        }
      ]
    },
    {
      "cell_type": "code",
      "metadata": {
        "id": "YaapFhUUtpRJ",
        "colab_type": "code",
        "outputId": "e390e4cd-dc81-486d-d108-a7e59a2fbde3",
        "colab": {
          "base_uri": "https://localhost:8080/",
          "height": 34
        }
      },
      "source": [
        "import pandas as pd\n",
        "\n",
        "# Dict 자료형을 Series로 바꾸기\n",
        "data = {\n",
        "    'a': '사과',\n",
        "    'b': '바나나',\n",
        "    'c': '당근'\n",
        "}\n",
        "\n",
        "array = pd.Series(data)\n",
        "print(array['a'])"
      ],
      "execution_count": 0,
      "outputs": [
        {
          "output_type": "stream",
          "text": [
            "사과\n"
          ],
          "name": "stdout"
        }
      ]
    },
    {
      "cell_type": "markdown",
      "metadata": {
        "id": "bvGE3itnMLNj",
        "colab_type": "text"
      },
      "source": [
        "<h5><b>DataFrame이란?</b></h5>\n",
        "\n",
        "* 다수의 시리즈(Series)를 모아 처리하기 위한 목적으로 사용합니다.\n",
        "* 표 형태로 데이터를 손쉽게 출력하고자 할 때 사용할 수 있습니다.\n"
      ]
    },
    {
      "cell_type": "markdown",
      "metadata": {
        "id": "YhqiOxYNuUBX",
        "colab_type": "text"
      },
      "source": [
        "<h5><b>DataFrame 사용해보기</b></h5>"
      ]
    },
    {
      "cell_type": "code",
      "metadata": {
        "id": "DwzGecXotxLL",
        "colab_type": "code",
        "outputId": "3a43319d-7cee-441d-97e4-d438eba26822",
        "colab": {
          "base_uri": "https://localhost:8080/",
          "height": 87
        }
      },
      "source": [
        "import pandas as pd\n",
        "\n",
        "word_dict = {\n",
        "    'Apple': '사과',\n",
        "    'Banana': '바나나',\n",
        "    'Carrot': '당근'\n",
        "}\n",
        "frequency_dict = {\n",
        "    'Apple': 3,\n",
        "    'Banana': 5,\n",
        "    'Carrot': 7\n",
        "}\n",
        "\n",
        "word = pd.Series(word_dict)\n",
        "frequency = pd.Series(frequency_dict)\n",
        "summary = pd.DataFrame({\n",
        "    'word': word,\n",
        "    'frequency': frequency\n",
        "})\n",
        "\n",
        "print(summary)"
      ],
      "execution_count": 0,
      "outputs": [
        {
          "output_type": "stream",
          "text": [
            "       word  frequency\n",
            "Apple    사과          3\n",
            "Banana  바나나          5\n",
            "Carrot   당근          7\n"
          ],
          "name": "stdout"
        }
      ]
    },
    {
      "cell_type": "markdown",
      "metadata": {
        "id": "cohWh9XAumhp",
        "colab_type": "text"
      },
      "source": [
        "<h5><b>Series의 연산</b></h5>"
      ]
    },
    {
      "cell_type": "code",
      "metadata": {
        "id": "1JFN9uPKuo7x",
        "colab_type": "code",
        "outputId": "9c678b1e-74e5-4b19-8b4a-fad6a1783b25",
        "colab": {
          "base_uri": "https://localhost:8080/",
          "height": 87
        }
      },
      "source": [
        "import pandas as pd\n",
        "\n",
        "word_dict = {\n",
        "    'Apple': '사과',\n",
        "    'Banana': '바나나',\n",
        "    'Carrot': '당근'\n",
        "}\n",
        "\n",
        "frequency_dict = {\n",
        "    'Apple': 3,\n",
        "    'Banana': 5,\n",
        "    'Carrot': 7\n",
        "}\n",
        "\n",
        "importance_dict = {\n",
        "    'Apple': 3,\n",
        "    'Banana': 2,\n",
        "    'Carrot': 1\n",
        "}\n",
        "\n",
        "word = pd.Series(word_dict)\n",
        "frequency = pd.Series(frequency_dict)\n",
        "importance = pd.Series(importance_dict)\n",
        "\n",
        "summary = pd.DataFrame({\n",
        "    'word': word,\n",
        "    'frequency': frequency,\n",
        "    'importance': importance\n",
        "})\n",
        "\n",
        "score = summary['frequency'] * summary['importance']\n",
        "summary['score'] = score\n",
        "\n",
        "print(summary)"
      ],
      "execution_count": 0,
      "outputs": [
        {
          "output_type": "stream",
          "text": [
            "       word  frequency  importance  score\n",
            "Apple    사과          3           3      9\n",
            "Banana  바나나          5           2     10\n",
            "Carrot   당근          7           1      7\n"
          ],
          "name": "stdout"
        }
      ]
    },
    {
      "cell_type": "markdown",
      "metadata": {
        "id": "wBRkHQDSvcKX",
        "colab_type": "text"
      },
      "source": [
        "<h5><b>DataFrame의 정렬 함수</b></h5>"
      ]
    },
    {
      "cell_type": "code",
      "metadata": {
        "id": "7GRYRD24usd5",
        "colab_type": "code",
        "outputId": "b21a533d-a16f-4b23-981c-ca1bd6698c7e",
        "colab": {
          "base_uri": "https://localhost:8080/",
          "height": 105
        }
      },
      "source": [
        "import numpy as np\n",
        "import pandas as pd\n",
        "\n",
        "word_dict = {\n",
        "    'Apple': '사과',\n",
        "    'Banana': '바나나',\n",
        "    'Carrot': '당근',\n",
        "    'Durian': '두리안'\n",
        "}\n",
        "\n",
        "frequency_dict = {\n",
        "    'Apple': 3,\n",
        "    'Banana': 5,\n",
        "    'Carrot': 1,\n",
        "    'Durian': 2\n",
        "}\n",
        "\n",
        "importance_dict = {\n",
        "    'Apple': 3,\n",
        "    'Banana': 2,\n",
        "    'Carrot': 1,\n",
        "    'Durian': 1\n",
        "}\n",
        "\n",
        "word = pd.Series(word_dict)\n",
        "frequency = pd.Series(frequency_dict)\n",
        "importance = pd.Series(importance_dict)\n",
        "\n",
        "summary = pd.DataFrame({\n",
        "    'word': word,\n",
        "    'frequency': frequency,\n",
        "    'importance': importance\n",
        "})\n",
        "\n",
        "summary = summary.sort_values('frequency', ascending=False)\n",
        "print(summary)"
      ],
      "execution_count": 0,
      "outputs": [
        {
          "output_type": "stream",
          "text": [
            "       word  frequency  importance\n",
            "Banana  바나나          5           2\n",
            "Apple    사과          3           3\n",
            "Durian  두리안          2           1\n",
            "Carrot   당근          1           1\n"
          ],
          "name": "stdout"
        }
      ]
    }
  ]
}