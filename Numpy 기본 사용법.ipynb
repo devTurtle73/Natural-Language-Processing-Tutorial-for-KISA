{
  "nbformat": 4,
  "nbformat_minor": 0,
  "metadata": {
    "colab": {
      "name": "Numpy 기본 사용법",
      "provenance": [],
      "collapsed_sections": [],
      "authorship_tag": "ABX9TyOPIeP8Cj9u/alyX6Kvn0lP",
      "include_colab_link": true
    },
    "kernelspec": {
      "name": "python3",
      "display_name": "Python 3"
    }
  },
  "cells": [
    {
      "cell_type": "markdown",
      "metadata": {
        "id": "view-in-github",
        "colab_type": "text"
      },
      "source": [
        "<a href=\"https://colab.research.google.com/github/ndb796/Natural-Language-Processing-Tutorial-for-KISA/blob/master/Numpy%20%EA%B8%B0%EB%B3%B8%20%EC%82%AC%EC%9A%A9%EB%B2%95.ipynb\" target=\"_parent\"><img src=\"https://colab.research.google.com/assets/colab-badge.svg\" alt=\"Open In Colab\"/></a>"
      ]
    },
    {
      "cell_type": "markdown",
      "metadata": {
        "id": "AiHR1Twlhsg1",
        "colab_type": "text"
      },
      "source": [
        "<h5><b>넘파이(Numpy)란?</b></h5>"
      ]
    },
    {
      "cell_type": "markdown",
      "metadata": {
        "id": "s9qTd6z-gXSb",
        "colab_type": "text"
      },
      "source": [
        "* Numpy는 다차원 배열을 효과적으로 처리할 수 있도록 도와주는 도구입니다.\n",
        "* 현실 세계의 다양한 데이터는 배열 형태로 표현할 수 있습니다.\n",
        "* Python의 기본 List에 비해 빠르고 강력한 기능을 제공합니다."
      ]
    },
    {
      "cell_type": "markdown",
      "metadata": {
        "id": "aVyW6R0viAZD",
        "colab_type": "text"
      },
      "source": [
        "<h5><b>List를 Numpy로 바꾸어 보기</b></h5>"
      ]
    },
    {
      "cell_type": "code",
      "metadata": {
        "id": "T_zcPREZhra3",
        "colab_type": "code",
        "outputId": "dd8b3f4e-6f1f-4925-f652-aa172859f1ba",
        "colab": {
          "base_uri": "https://localhost:8080/",
          "height": 70
        }
      },
      "source": [
        "import numpy as np\n",
        "\n",
        "array = np.array([1, 2, 3])\n",
        "\n",
        "print(array.size) # 배열의 크기\n",
        "print(array.dtype) # 배열 원소의 타입\n",
        "print(array[2]) # 인덱스 2의 원소"
      ],
      "execution_count": 0,
      "outputs": [
        {
          "output_type": "stream",
          "text": [
            "3\n",
            "int64\n",
            "3\n"
          ],
          "name": "stdout"
        }
      ]
    },
    {
      "cell_type": "markdown",
      "metadata": {
        "id": "YlHVUtCNiJor",
        "colab_type": "text"
      },
      "source": [
        "<h5><b>Numpy 배열 초기화하기</b></h5>"
      ]
    },
    {
      "cell_type": "code",
      "metadata": {
        "id": "NPblXejugO2L",
        "colab_type": "code",
        "outputId": "a5be62bd-ddff-4071-aec5-877fa489c3ff",
        "colab": {
          "base_uri": "https://localhost:8080/",
          "height": 263
        }
      },
      "source": [
        "import numpy as np\n",
        "\n",
        "# 0부터 3까지의 배열 만들기\n",
        "array1 = np.arange(4)\n",
        "array2 = np.zeros((4, 4), dtype=float) # 0으로 초기화\n",
        "array3 = np.ones((3, 3), dtype=str) # 1로 초기화\n",
        "\n",
        "# 0부터 9까지 랜덤하게 초기화 된 배열 만들기\n",
        "array4 = np.random.randint(0, 10, (3, 3))\n",
        "\n",
        "# 평균이 0이고 표준편차가 1인 표준 정규를 띄는 배열\n",
        "array5 = np.random.normal(0, 1, (3, 3))\n",
        "\n",
        "print(array1)\n",
        "print(array2)\n",
        "print(array3)\n",
        "print(array4)\n",
        "print(array5)"
      ],
      "execution_count": 0,
      "outputs": [
        {
          "output_type": "stream",
          "text": [
            "[0 1 2 3]\n",
            "[[0. 0. 0. 0.]\n",
            " [0. 0. 0. 0.]\n",
            " [0. 0. 0. 0.]\n",
            " [0. 0. 0. 0.]]\n",
            "[['1' '1' '1']\n",
            " ['1' '1' '1']\n",
            " ['1' '1' '1']]\n",
            "[[1 7 9]\n",
            " [1 7 7]\n",
            " [8 1 8]]\n",
            "[[-1.44796179 -1.28509791 -0.59567677]\n",
            " [ 0.74416933 -0.66555568 -0.61612865]\n",
            " [ 0.71287383  1.36797905  0.79253509]]\n"
          ],
          "name": "stdout"
        }
      ]
    },
    {
      "cell_type": "markdown",
      "metadata": {
        "id": "OQKx7iT1jktt",
        "colab_type": "text"
      },
      "source": [
        "<h5><b>Numpy 배열 합치기</b></h5>"
      ]
    },
    {
      "cell_type": "code",
      "metadata": {
        "id": "DWL24oSUgWlL",
        "colab_type": "code",
        "outputId": "b8ea9c06-e003-45f6-d19f-781fc9ff0e38",
        "colab": {
          "base_uri": "https://localhost:8080/",
          "height": 52
        }
      },
      "source": [
        "import numpy as np\n",
        "\n",
        "array1 = np.array([1, 2, 3])\n",
        "array2 = np.array([4, 5, 6])\n",
        "array3 = np.concatenate([array1, array2])\n",
        "\n",
        "print(array3.shape)\n",
        "print(array3)\n"
      ],
      "execution_count": 0,
      "outputs": [
        {
          "output_type": "stream",
          "text": [
            "(6,)\n",
            "[1 2 3 4 5 6]\n"
          ],
          "name": "stdout"
        }
      ]
    },
    {
      "cell_type": "markdown",
      "metadata": {
        "id": "OC-oRSY5j6mW",
        "colab_type": "text"
      },
      "source": [
        "<h5><b>Numpy의 상수 연산</b></h5>"
      ]
    },
    {
      "cell_type": "code",
      "metadata": {
        "id": "kzzaXipKj56u",
        "colab_type": "code",
        "outputId": "8efa9ace-9769-4733-fba0-f3e0f19fb8bc",
        "colab": {
          "base_uri": "https://localhost:8080/",
          "height": 52
        }
      },
      "source": [
        "import numpy as np\n",
        "\n",
        "array = np.random.randint(1, 10, size=4).reshape(2, 2)\n",
        "result_array = array * 10\n",
        "print(result_array)"
      ],
      "execution_count": 0,
      "outputs": [
        {
          "output_type": "stream",
          "text": [
            "[[70 60]\n",
            " [90 10]]\n"
          ],
          "name": "stdout"
        }
      ]
    },
    {
      "cell_type": "markdown",
      "metadata": {
        "id": "TSb8gkeFkEGG",
        "colab_type": "text"
      },
      "source": [
        "<h5><b>서로 다른 형태의 Numpy 객체 연산</b></h5>"
      ]
    },
    {
      "cell_type": "code",
      "metadata": {
        "id": "Jo9A-MuKkGz0",
        "colab_type": "code",
        "outputId": "1129ab87-7b99-4870-96b2-6602f23d0926",
        "colab": {
          "base_uri": "https://localhost:8080/",
          "height": 52
        }
      },
      "source": [
        "import numpy as np\n",
        "\n",
        "array1 = np.arange(4).reshape(2, 2)\n",
        "array2 = np.arange(2)\n",
        "array3 = array1 + array2\n",
        "\n",
        "print(array3)"
      ],
      "execution_count": 0,
      "outputs": [
        {
          "output_type": "stream",
          "text": [
            "[[0 2]\n",
            " [2 4]]\n"
          ],
          "name": "stdout"
        }
      ]
    },
    {
      "cell_type": "markdown",
      "metadata": {
        "id": "y8W4JmQpkNel",
        "colab_type": "text"
      },
      "source": [
        "<h5><b>Numpy의 집계 함수</b></h5>"
      ]
    },
    {
      "cell_type": "code",
      "metadata": {
        "id": "aViwZakAkM5v",
        "colab_type": "code",
        "outputId": "ac842362-da28-438d-e001-4377a62994b7",
        "colab": {
          "base_uri": "https://localhost:8080/",
          "height": 87
        }
      },
      "source": [
        "import numpy as np\n",
        "\n",
        "array = np.arange(16).reshape(4, 4)\n",
        "\n",
        "print(\"최대값:\", np.max(array))\n",
        "print(\"최소값:\", np.min(array))\n",
        "print(\"합계:\", np.sum(array))\n",
        "print(\"평균값:\", np.mean(array))"
      ],
      "execution_count": 0,
      "outputs": [
        {
          "output_type": "stream",
          "text": [
            "최대값: 15\n",
            "최소값: 0\n",
            "합계: 120\n",
            "평균값: 7.5\n"
          ],
          "name": "stdout"
        }
      ]
    },
    {
      "cell_type": "markdown",
      "metadata": {
        "id": "TzQLWUXbqFKq",
        "colab_type": "text"
      },
      "source": [
        "<h5><b>Numpy 원소의 정렬</b></h5>"
      ]
    },
    {
      "cell_type": "code",
      "metadata": {
        "id": "yD-ozNg8qCKb",
        "colab_type": "code",
        "outputId": "9d4a92ed-cb40-4992-8c47-356246ee577e",
        "colab": {
          "base_uri": "https://localhost:8080/",
          "height": 87
        }
      },
      "source": [
        "import numpy as np\n",
        "\n",
        "# Numpy 원소 오름차순 정렬\n",
        "array = np.array([5, 9, 10, 3, 1])\n",
        "array.sort()\n",
        "print(array)\n",
        "\n",
        "# Numpy 원소 내림차순 정렬\n",
        "array = np.array([5, 9, 10, 3, 1])\n",
        "array.sort()\n",
        "print(array[::-1])\n",
        "\n",
        "# 각 열을 기준으로 정렬\n",
        "array = np.array([[5, 9, 10, 3, 1], [8, 3, 4, 2, 5]])\n",
        "array.sort(axis=0)\n",
        "print(array)"
      ],
      "execution_count": 0,
      "outputs": [
        {
          "output_type": "stream",
          "text": [
            "[ 1  3  5  9 10]\n",
            "[10  9  5  3  1]\n",
            "[[ 5  3  4  2  1]\n",
            " [ 8  9 10  3  5]]\n"
          ],
          "name": "stdout"
        }
      ]
    }
  ]
}